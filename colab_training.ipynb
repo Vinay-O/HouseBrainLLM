{
  "cells": [
    {
      "cell_type": "markdown",
      "metadata": {
        "id": "header"
      },
      "source": [
        "# \ud83c\udfe0 HouseBrain LLM Training\n\n",
        "**Train your custom architectural AI on Google Colab (Free GPU)**\n\n",
        "This notebook will help you train the HouseBrain LLM using QLoRA fine-tuning on the DeepSeek model.\n\n",
        "---\n\n",
        "## \ud83d\udccb Prerequisites\n\n",
        "1. **Enable GPU**: Runtime \u2192 Change runtime type \u2192 GPU (T4)\n",
        "2. **Upload Dataset**: You'll need a HouseBrain dataset zip file\n",
        "3. **Patience**: Training takes 2-4 hours\n\n",
        "## \ud83c\udfaf What You'll Get\n\n",
        "- **Trained Model**: Ready-to-use HouseBrain LLM\n",
        "- **Performance**: 70-85% architectural compliance\n",
        "- **Cost**: Completely free (Google Colab)\n\n",
        "---"
      ]
    },
    {
      "cell_type": "markdown",
      "metadata": {
        "id": "setup"
      },
      "source": [
        "## \ud83d\ude80 Step 1: Setup Environment"
      ]
    },
    {
      "cell_type": "code",
      "execution_count": null,
      "metadata": {
        "id": "install_deps"
      },
      "outputs": [],
      "source": [
        "# Install required dependencies\n",
        "!pip install torch transformers datasets accelerate peft bitsandbytes wandb tqdm fastapi uvicorn pydantic orjson svgwrite trimesh python-dotenv\n\n",
        "print(\"\u2705 Dependencies installed successfully!\")"
      ]
    },
    {
      "cell_type": "code",
      "execution_count": null,
      "metadata": {
        "id": "clone_repo"
      },
      "outputs": [],
      "source": [
        "# Clone the HouseBrain repository\n",
        "!git clone https://github.com/Vinay-O/HouseBrainLLM.git\n",
        "%cd HouseBrainLLM\n\n",
        "print(\"\u2705 Repository cloned successfully!\")"
      ]
    },
    {
      "cell_type": "markdown",
      "metadata": {
        "id": "upload_dataset"
      },
      "source": [
        "## \ud83d\udcc1 Step 2: Upload Dataset\n\n",
        "Upload your HouseBrain dataset zip file (generated locally with `generate_dataset.py`)"
      ]
    },
    {
      "cell_type": "code",
      "execution_count": null,
      "metadata": {
        "id": "upload"
      },
      "outputs": [],
      "source": [
        "# Upload your dataset zip file\n",
        "from google.colab import files\n",
        "uploaded = files.upload()\n\n",
        "print(f\"\ud83d\udce6 Uploaded files: {list(uploaded.keys())}\")"
      ]
    },
    {
      "cell_type": "code",
      "execution_count": null,
      "metadata": {
        "id": "extract_dataset"
      },
      "outputs": [],
      "source": [
        "# Extract the dataset\n",
        "import zipfile\n",
        "import os\n\n",
        "for filename in uploaded.keys():\n",
        "    if filename.endswith('.zip'):\n",
        "        print(f\"\ud83d\udcc2 Extracting {filename}...\")\n",
        "        with zipfile.ZipFile(filename, 'r') as zip_ref:\n",
        "            zip_ref.extractall('.')\n",
        "        print(f\"\u2705 Extracted {filename}\")\n\n",
        "# List available datasets\n",
        "datasets = [d for d in os.listdir('.') if d.startswith('housebrain_dataset') and os.path.isdir(d)]\n",
        "print(f\"\\n\ud83d\udcca Available datasets: {datasets}\")"
      ]
    },
    {
      "cell_type": "markdown",
      "metadata": {
        "id": "configure_training"
      },
      "source": [
        "## \u2699\ufe0f Step 3: Configure Training\n\n",
        "Set up your training configuration"
      ]
    },
    {
      "cell_type": "code",
      "execution_count": null,
      "metadata": {
        "id": "import_modules"
      },
      "outputs": [],
      "source": [
        "# Import training modules\n",
        "import sys\n",
        "sys.path.append('src')\n\n",
        "from housebrain.finetune import FineTuningConfig, HouseBrainFineTuner\n",
        "import torch\n\n",
        "print(\"\u2705 Training modules imported successfully!\")"
      ]
    },
    {
      "cell_type": "code",
      "execution_count": null,
      "metadata": {
        "id": "check_gpu"
      },
      "outputs": [],
      "source": [
        "# Check GPU availability\n",
        "if torch.cuda.is_available():\n",
        "    gpu_name = torch.cuda.get_device_name(0)\n",
        "    gpu_memory = torch.cuda.get_device_properties(0).total_memory / 1e9\n",
        "    print(f\"\ud83d\ude80 GPU: {gpu_name} ({gpu_memory:.1f}GB VRAM)\")\n",
        "else:\n",
        "    print(\"\u26a0\ufe0f  No GPU detected. Training will be very slow on CPU.\")\n",
        "    print(\"   Please enable GPU: Runtime \u2192 Change runtime type \u2192 GPU\")"
      ]
    },
    {
      "cell_type": "code",
      "execution_count": null,
      "metadata": {
        "id": "training_config"
      },
      "outputs": [],
      "source": [
        "# Training configuration\n",
        "dataset_name = datasets[0] if datasets else \"housebrain_dataset_v5_50k\"  # Use first available dataset\n\n",
        "config = FineTuningConfig(\n",
        "    model_name=\"deepseek-ai/deepseek-coder-6.7b-base\",\n",
        "    dataset_path=dataset_name,\n",
        "    output_dir=\"models/housebrain-colab-trained\",\n",
        "    max_length=1024,\n",
        "    batch_size=2,  # Adjust based on GPU memory\n",
        "    num_epochs=3,\n",
        "    learning_rate=2e-4,\n",
        "    use_4bit=True,  # Enable for CUDA\n",
        "    fp16=True,      # Enable for CUDA\n",
        "    warmup_steps=100,\n",
        "    logging_steps=50,\n",
        "    save_steps=500,\n",
        "    eval_steps=500,\n",
        "    gradient_accumulation_steps=4,\n",
        "    lora_r=16,\n",
        "    lora_alpha=32,\n",
        "    lora_dropout=0.1,\n",
        ")\n\n",
        "print(f\"\ud83d\udccb Training Configuration:\")\n",
        "print(f\"   Model: {config.model_name}\")\n",
        "print(f\"   Dataset: {config.dataset_path}\")\n",
        "print(f\"   Output: {config.output_dir}\")\n",
        "print(f\"   Epochs: {config.num_epochs}\")\n",
        "print(f\"   Batch Size: {config.batch_size}\")\n",
        "print(f\"   Learning Rate: {config.learning_rate}\")"
      ]
    },
    {
      "cell_type": "markdown",
      "metadata": {
        "id": "start_training"
      },
      "source": [
        "## \ud83d\ude80 Step 4: Start Training\n\n",
        "This will take 2-4 hours. Make sure to keep the notebook active!"
      ]
    },
    {
      "cell_type": "code",
      "execution_count": null,
      "metadata": {
        "id": "initialize_trainer"
      },
      "outputs": [],
      "source": [
        "# Initialize trainer\n",
        "print(\"\ud83d\udd27 Setting up trainer...\")\n",
        "trainer = HouseBrainFineTuner(config)\n",
        "print(\"\u2705 Trainer initialized successfully!\")"
      ]
    },
    {
      "cell_type": "code",
      "execution_count": null,
      "metadata": {
        "id": "train_model"
      },
      "outputs": [],
      "source": [
        "# Start training\n",
        "print(\"\ud83c\udfaf Starting training...\")\n",
        "print(\"\u23f0 This will take 2-4 hours. Keep the notebook active!\")\n",
        "print(\"\ud83d\udcca Monitor progress below:\")\n\n",
        "try:\n",
        "    trainer.train()\n",
        "    print(\"\\n\ud83c\udf89 Training completed successfully!\")\n",
        "except Exception as e:\n",
        "    print(f\"\\n\u274c Training failed: {e}\")\n",
        "    print(\"\ud83d\udca1 Try reducing batch_size or using a smaller model\")"
      ]
    },
    {
      "cell_type": "markdown",
      "metadata": {
        "id": "save_model"
      },
      "source": [
        "## \ud83d\udcbe Step 5: Save Model\n\n",
        "Save your trained model for download"
      ]
    },
    {
      "cell_type": "code",
      "execution_count": null,
      "metadata": {
        "id": "save_trained_model"
      },
      "outputs": [],
      "source": [
        "# Save the trained model\n",
        "print(\"\ud83d\udcbe Saving model...\")\n",
        "trainer.save_model()\n",
        "print(\"\u2705 Model saved successfully!\")"
      ]
    },
    {
      "cell_type": "code",
      "execution_count": null,
      "metadata": {
        "id": "create_zip"
      },
      "outputs": [],
      "source": [
        "# Create zip archive for download\n",
        "import zipfile\n",
        "import os\n\n",
        "model_dir = config.output_dir\n",
        "zip_path = \"housebrain-model.zip\"\n\n",
        "print(f\"\ud83d\udce6 Creating zip archive: {zip_path}\")\n\n",
        "with zipfile.ZipFile(zip_path, 'w', zipfile.ZIP_DEFLATED) as zipf:\n",
        "    for root, dirs, files in os.walk(model_dir):\n",
        "        for file in files:\n",
        "            file_path = os.path.join(root, file)\n",
        "            arcname = os.path.relpath(file_path, model_dir)\n",
        "            zipf.write(file_path, arcname)\n\n",
        "print(f\"\u2705 Zip archive created: {zip_path}\")\n",
        "print(f\"\ud83d\udcc1 Archive size: {os.path.getsize(zip_path) / 1e6:.1f} MB\")"
      ]
    },
    {
      "cell_type": "code",
      "execution_count": null,
      "metadata": {
        "id": "download_model"
      },
      "outputs": [],
      "source": [
        "# Download the trained model\n",
        "from google.colab import files\n\n",
        "print(\"\u2b07\ufe0f  Downloading trained model...\")\n",
        "files.download(zip_path)\n",
        "print(\"\u2705 Model downloaded successfully!\")"
      ]
    }
  ],
  "metadata": {
    "accelerator": "GPU",
    "colab": {
      "gpuType": "T4",
      "provenance": []
    },
    "kernelspec": {
      "display_name": "Python 3",
      "language": "python",
      "name": "python3"
    },
    "language_info": {
      "codemirror_mode": {
        "name": "ipython",
        "version": 3
      },
      "file_extension": ".py",
      "mimetype": "text/x-python",
      "name": "python",
      "nbconvert_exporter": "python",
      "pygments_lexer": "ipython3",
      "version": "3.8.5"
    }
  },
  "nbformat": 4,
  "nbformat_minor": 0
}
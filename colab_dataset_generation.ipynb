{
  "cells": [
    {
      "cell_type": "markdown",
      "metadata": {
        "id": "header"
      },
      "source": [
        "# \ud83c\udfd7\ufe0f HouseBrain Dataset Generation\n\n",
        "**Generate massive training datasets on Google Colab (Free CPU/GPU)**\n\n",
        "This notebook will help you generate large HouseBrain datasets for training your custom LLM.\n\n",
        "---\n\n",
        "## \ud83d\udccb Strategy\n\n",
        "1. **Generate Dataset on Colab** (this notebook)\n",
        "2. **Download Dataset** to your computer\n",
        "3. **Upload to Kaggle** for training\n",
        "4. **Train Model on Kaggle** (separate notebook)\n\n",
        "## \ud83c\udfaf What You'll Get\n\n",
        "- **Large Dataset**: 50K-100K+ samples\n",
        "- **High Quality**: Realistic architectural parameters\n",
        "- **Fast Generation**: Colab's powerful CPU\n",
        "- **Free**: No cost involved\n\n",
        "---"
      ]
    },
    {
      "cell_type": "markdown",
      "metadata": {
        "id": "setup"
      },
      "source": [
        "## \ud83d\ude80 Step 1: Setup Environment"
      ]
    },
    {
      "cell_type": "code",
      "execution_count": null,
      "metadata": {
        "id": "install_deps"
      },
      "outputs": [],
      "source": [
        "# Install required dependencies\n",
        "!pip install torch transformers datasets accelerate peft bitsandbytes wandb tqdm fastapi uvicorn pydantic orjson svgwrite trimesh python-dotenv\n\n",
        "print(\"\u2705 Dependencies installed successfully!\")"
      ]
    },
    {
      "cell_type": "code",
      "execution_count": null,
      "metadata": {
        "id": "clone_repo"
      },
      "outputs": [],
      "source": [
        "# Clone the HouseBrain repository\n",
        "!git clone https://github.com/Vinay-O/HouseBrainLLM.git\n",
        "%cd HouseBrainLLM\n\n",
        "print(\"\u2705 Repository cloned successfully!\")"
      ]
    },
    {
      "cell_type": "markdown",
      "metadata": {
        "id": "configure_generation"
      },
      "source": [
        "## \u2699\ufe0f Step 2: Configure Dataset Generation\n\n",
        "Set up your dataset generation parameters"
      ]
    },
    {
      "cell_type": "code",
      "execution_count": null,
      "metadata": {
        "id": "import_modules"
      },
      "outputs": [],
      "source": [
        "# Import dataset generation modules\n",
        "import sys\n",
        "sys.path.append('.')\n\n",
        "from generate_dataset import DatasetConfig, HouseBrainDatasetGenerator\n",
        "import os\n\n",
        "print(\"\u2705 Dataset generation modules imported successfully!\")"
      ]
    },
    {
      "cell_type": "code",
      "execution_count": null,
      "metadata": {
        "id": "dataset_config"
      },
      "outputs": [],
      "source": [
        "# Dataset generation configuration\n",
        "# Adjust these parameters based on your needs\n\n",
        "config = DatasetConfig(\n",
        "    num_samples=50000,  # Number of samples to generate\n",
        "    output_dir=\"housebrain_dataset_v5_50k_colab\",  # Output directory\n",
        "    train_ratio=0.9,  # Train/validation split\n",
        "    min_plot_size=1000,  # Minimum plot area (sqft)\n",
        "    max_plot_size=10000,  # Maximum plot area (sqft)\n",
        "    min_bedrooms=1,  # Minimum bedrooms\n",
        "    max_bedrooms=6,  # Maximum bedrooms\n",
        "    min_floors=1,  # Minimum floors\n",
        "    max_floors=4,  # Maximum floors\n",
        "    min_budget=100000,  # Minimum budget\n",
        "    max_budget=2000000,  # Maximum budget\n",
        "    fast_mode=True,  # Skip layout solving for speed\n",
        ")\n\n",
        "print(f\"\ud83d\udccb Dataset Configuration:\")\n",
        "print(f\"   Samples: {config.num_samples:,}\")\n",
        "print(f\"   Output: {config.output_dir}\")\n",
        "print(f\"   Train Ratio: {config.train_ratio}\")\n",
        "print(f\"   Plot Size: {config.min_plot_size:,} - {config.max_plot_size:,} sqft\")\n",
        "print(f\"   Bedrooms: {config.min_bedrooms} - {config.max_bedrooms}\")\n",
        "print(f\"   Floors: {config.min_floors} - {config.max_floors}\")\n",
        "print(f\"   Budget: ${config.min_budget:,} - ${config.max_budget:,}\")\n",
        "print(f\"   Fast Mode: {config.fast_mode}\")"
      ]
    },
    {
      "cell_type": "markdown",
      "metadata": {
        "id": "generate_dataset"
      },
      "source": [
        "## \ud83c\udfd7\ufe0f Step 3: Generate Dataset\n\n",
        "This will take 30-60 minutes depending on the number of samples."
      ]
    },
    {
      "cell_type": "code",
      "execution_count": null,
      "metadata": {
        "id": "start_generation"
      },
      "outputs": [],
      "source": [
        "# Initialize dataset generator\n",
        "print(\"\ud83d\udd27 Setting up dataset generator...\")\n",
        "generator = HouseBrainDatasetGenerator(config)\n",
        "print(\"\u2705 Dataset generator initialized successfully!\")"
      ]
    },
    {
      "cell_type": "code",
      "execution_count": null,
      "metadata": {
        "id": "generate_samples"
      },
      "outputs": [],
      "source": [
        "# Generate the dataset\n",
        "print(\"\ud83c\udfaf Starting dataset generation...\")\n",
        "print(f\"\u23f0 This will take 30-60 minutes for {config.num_samples:,} samples.\")\n",
        "print(\"\ud83d\udcca Monitor progress below:\")\n\n",
        "try:\n",
        "    output_dir = generator.generate_dataset()\n",
        "    print(f\"\\n\ud83c\udf89 Dataset generation completed successfully!\")\n",
        "    print(f\"\ud83d\udcc1 Output directory: {output_dir}\")\n",
        "except Exception as e:\n",
        "    print(f\"\\n\u274c Dataset generation failed: {e}\")\n",
        "    print(\"\ud83d\udca1 Try reducing num_samples or using fast_mode=True\")"
      ]
    },
    {
      "cell_type": "markdown",
      "metadata": {
        "id": "create_zip"
      },
      "source": [
        "## \ud83d\udce6 Step 4: Create Zip Archive\n\n",
        "Create a zip file for easy download and upload to Kaggle"
      ]
    },
    {
      "cell_type": "code",
      "execution_count": null,
      "metadata": {
        "id": "zip_dataset"
      },
      "outputs": [],
      "source": [
        "# Create zip archive\n",
        "import zipfile\n",
        "import os\n",
        "from pathlib import Path\n\n",
        "output_dir = Path(config.output_dir)\n",
        "zip_path = f\"{config.output_dir}.zip\"\n\n",
        "print(f\"\ud83d\udce6 Creating zip archive: {zip_path}\")\n\n",
        "with zipfile.ZipFile(zip_path, 'w', zipfile.ZIP_DEFLATED) as zipf:\n",
        "    for root, dirs, files in os.walk(output_dir):\n",
        "        for file in files:\n",
        "            file_path = os.path.join(root, file)\n",
        "            arcname = os.path.relpath(file_path, output_dir.parent)\n",
        "            zipf.write(file_path, arcname)\n\n",
        "print(f\"\u2705 Zip archive created: {zip_path}\")\n",
        "print(f\"\ud83d\udcc1 Archive size: {os.path.getsize(zip_path) / 1e6:.1f} MB\")"
      ]
    },
    {
      "cell_type": "markdown",
      "metadata": {
        "id": "download_dataset"
      },
      "source": [
        "## \u2b07\ufe0f Step 5: Download Dataset\n\n",
        "Download the dataset to your computer"
      ]
    },
    {
      "cell_type": "code",
      "execution_count": null,
      "metadata": {
        "id": "download"
      },
      "outputs": [],
      "source": [
        "# Download the dataset\n",
        "from google.colab import files\n\n",
        "print(\"\u2b07\ufe0f  Downloading dataset...\")\n",
        "files.download(zip_path)\n",
        "print(\"\u2705 Dataset downloaded successfully!\")"
      ]
    }
  ],
  "metadata": {
    "accelerator": "CPU",
    "colab": {
      "provenance": []
    },
    "kernelspec": {
      "display_name": "Python 3",
      "language": "python",
      "name": "python3"
    },
    "language_info": {
      "codemirror_mode": {
        "name": "ipython",
        "version": 3
      },
      "file_extension": ".py",
      "mimetype": "text/x-python",
      "name": "python",
      "nbconvert_exporter": "python",
      "pygments_lexer": "ipython3",
      "version": "3.8.5"
    }
  },
  "nbformat": 4,
  "nbformat_minor": 0
}
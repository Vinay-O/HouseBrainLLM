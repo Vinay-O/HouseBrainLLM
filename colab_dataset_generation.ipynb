{
  "cells": [
    {
      "cell_type": "markdown",
      "metadata": {
        "id": "header"
      },
      "source": [
        "# \ud83c\udfd7\ufe0f HouseBrain Enhanced Dataset Generation\n\n",
        "**Generate 150K training samples with crucial architectural parameters on Google Colab (Free CPU)**\n\n",
        "This notebook will help you generate a massive HouseBrain dataset with enhanced features for training your custom LLM.\n\n",
        "---\n\n",
        "## \ud83c\udd95 Enhanced Features\n\n",
        "### **Plot & Site Parameters**\n",
        "- **Plot Shape**: Rectangle, L-shape, irregular, corner plot, square\n",
        "- **Orientation**: 8 compass directions\n",
        "- **Slope**: 0-15 degrees\n",
        "- **Corner Plot**: Special setback considerations\n\n",
        "### **Exterior Finishes & Materials**\n",
        "- **Exterior Wall**: Brick, stone, stucco, vinyl, wood, concrete, fiber cement\n",
        "- **Roofing**: Asphalt shingles, metal, tile, slate, flat roof, wood shingles\n",
        "- **Windows**: Single-hung, double-hung, casement, picture, sliding, bay\n",
        "- **Doors**: Wood, steel, fiberglass, sliding glass, French\n",
        "- **Garage**: Attached, detached, carport, none\n\n",
        "### **Climate & Site Conditions**\n",
        "- **Climate Zone**: Hot dry, hot humid, cold, temperate, tropical, Mediterranean\n",
        "- **Seismic Zone**: Low, medium, high earthquake risk\n",
        "- **Soil Type**: Clay, sandy, rocky, loamy, silty\n",
        "- **Utilities**: City/well water, city/septic sewer, solar ready\n\n",
        "### **Building Codes & Regulations**\n",
        "- **Floor Area Ratio (FAR)**: 0.2-0.8\n",
        "- **Height Restrictions**: 25-35 feet\n",
        "- **Parking Requirements**: 1-3 spaces\n",
        "- **Fire Safety**: Sprinklers, fire exits, fire walls\n\n",
        "## \ud83d\udccb Strategy\n\n",
        "1. **Generate 150K samples on Colab** (this notebook)\n",
        "2. **Download dataset** to your computer\n",
        "3. **Upload to Kaggle** for training\n",
        "4. **Train model on Kaggle** (separate notebook)\n\n",
        "## \ud83c\udfaf What You'll Get\n\n",
        "- **150K Samples**: Massive training dataset\n",
        "- **Enhanced Quality**: 6+ crucial architectural parameters\n",
        "- **Fast Generation**: Colab's powerful CPU\n",
        "- **Free**: No cost involved\n",
        "- **Training Time**: 90-120 minutes\n\n",
        "---"
      ]
    },
    {
      "cell_type": "markdown",
      "metadata": {
        "id": "setup"
      },
      "source": [
        "## \ud83d\ude80 Step 1: Setup Environment"
      ]
    },
    {
      "cell_type": "code",
      "execution_count": null,
      "metadata": {
        "id": "install_deps"
      },
      "outputs": [],
      "source": [
        "# Install required dependencies\n",
        "!pip install torch transformers datasets accelerate peft bitsandbytes wandb tqdm fastapi uvicorn pydantic orjson svgwrite trimesh python-dotenv\n\n",
        "print(\"\u2705 Dependencies installed successfully!\")"
      ]
    },
    {
      "cell_type": "code",
      "execution_count": null,
      "metadata": {
        "id": "clone_repo"
      },
      "outputs": [],
      "source": [
        "# Clone the HouseBrain repository\n",
        "!git clone https://github.com/Vinay-O/HouseBrainLLM.git\n",
        "%cd HouseBrainLLM\n\n",
        "print(\"\u2705 Repository cloned successfully!\")"
      ]
    },
    {
      "cell_type": "markdown",
      "metadata": {
        "id": "configure_generation"
      },
      "source": [
        "## \u2699\ufe0f Step 2: Configure Enhanced Dataset Generation\n\n",
        "Set up your dataset generation parameters with all enhanced features"
      ]
    },
    {
      "cell_type": "code",
      "execution_count": null,
      "metadata": {
        "id": "import_modules"
      },
      "outputs": [],
      "source": [
        "# Import dataset generation modules\n",
        "import sys\n",
        "sys.path.append('.')\n\n",
        "from generate_dataset import DatasetConfig, HouseBrainDatasetGenerator\n",
        "import os\n\n",
        "print(\"\u2705 Enhanced dataset generation modules imported successfully!\")"
      ]
    },
    {
      "cell_type": "code",
      "execution_count": null,
      "metadata": {
        "id": "dataset_config"
      },
      "outputs": [],
      "source": [
        "# Enhanced dataset generation configuration for 150K samples\n",
        "# This includes all crucial architectural parameters\n\n",
        "config = DatasetConfig(\n",
        "    num_samples=150000,  # 150K samples for maximum free tier value\n",
        "    output_dir=\"housebrain_dataset_v5_150k_colab\",  # Output directory\n",
        "    train_ratio=0.9,  # Train/validation split\n",
        "    min_plot_size=1000,  # Minimum plot area (sqft)\n",
        "    max_plot_size=10000,  # Maximum plot area (sqft)\n",
        "    min_bedrooms=1,  # Minimum bedrooms\n",
        "    max_bedrooms=6,  # Maximum bedrooms\n",
        "    min_floors=1,  # Minimum floors\n",
        "    max_floors=4,  # Maximum floors\n",
        "    min_budget=100000,  # Minimum budget\n",
        "    max_budget=2000000,  # Maximum budget\n",
        "    fast_mode=True,  # Skip layout solving for speed\n",
        "    # Enhanced styles\n",
        "    styles=[\n",
        "        \"Modern\", \"Contemporary\", \"Traditional\", \"Colonial\", \"Mediterranean\",\n",
        "        \"Craftsman\", \"Victorian\", \"Minimalist\", \"Scandinavian\", \"Industrial\",\n",
        "        \"Tropical\", \"Rustic\", \"Art Deco\", \"Mid-Century Modern\", \"Gothic\"\n",
        "    ],\n",
        "    # Enhanced regions\n",
        "    regions=[\n",
        "        \"US_Northeast\", \"US_Southeast\", \"US_Midwest\", \"US_Southwest\", \"US_West\",\n",
        "        \"EU_UK\", \"EU_Germany\", \"EU_France\", \"EU_Italy\", \"EU_Spain\",\n",
        "        \"Asia_India\", \"Asia_China\", \"Asia_Japan\", \"Asia_Singapore\", \"Asia_Australia\"\n",
        "    ]\n",
        ")\n\n",
        "print(f\"\ud83d\udccb Enhanced Dataset Configuration:\")\n",
        "print(f\"   Samples: {config.num_samples:,}\")\n",
        "print(f\"   Output: {config.output_dir}\")\n",
        "print(f\"   Train Ratio: {config.train_ratio}\")\n",
        "print(f\"   Plot Size: {config.min_plot_size:,} - {config.max_plot_size:,} sqft\")\n",
        "print(f\"   Bedrooms: {config.min_bedrooms} - {config.max_bedrooms}\")\n",
        "print(f\"   Floors: {config.min_floors} - {config.max_floors}\")\n",
        "print(f\"   Budget: ${config.min_budget:,} - ${config.max_budget:,}\")\n",
        "print(f\"   Fast Mode: {config.fast_mode}\")\n",
        "print(f\"   Styles: {len(config.styles)} architectural styles\")\n",
        "print(f\"   Regions: {len(config.regions)} global regions\")\n",
        "print(f\"\\n\ud83c\udfaf Enhanced Features:\")\n",
        "print(f\"   \u2022 Plot shape & orientation\")\n",
        "print(f\"   \u2022 Exterior finishes & materials\")\n",
        "print(f\"   \u2022 Climate & site conditions\")\n",
        "print(f\"   \u2022 Building codes & regulations\")\n",
        "print(f\"   \u2022 Garage & parking requirements\")\n",
        "print(f\"   \u2022 Utilities & accessibility\")"
      ]
    },
    {
      "cell_type": "markdown",
      "metadata": {
        "id": "generate_dataset"
      },
      "source": [
        "## \ud83c\udfd7\ufe0f Step 3: Generate Enhanced Dataset\n\n",
        "This will take 90-120 minutes for 150K samples with all enhanced features."
      ]
    },
    {
      "cell_type": "code",
      "execution_count": null,
      "metadata": {
        "id": "start_generation"
      },
      "outputs": [],
      "source": [
        "# Initialize enhanced dataset generator\n",
        "print(\"\ud83d\udd27 Setting up enhanced dataset generator...\")\n",
        "generator = HouseBrainDatasetGenerator(config)\n",
        "print(\"\u2705 Enhanced dataset generator initialized successfully!\")\n",
        "print(f\"\\n\ud83d\udcca Generator includes:\")\n",
        "print(f\"   \u2022 {len(generator.plot_shapes)} plot shapes\")\n",
        "print(f\"   \u2022 {len(generator.exterior_materials)} exterior materials\")\n",
        "print(f\"   \u2022 {len(generator.roofing_materials)} roofing materials\")\n",
        "print(f\"   \u2022 {len(generator.climate_zones)} climate zones\")\n",
        "print(f\"   \u2022 {len(generator.soil_types)} soil types\")\n",
        "print(f\"   \u2022 {len(generator.garage_types)} garage types\")"
      ]
    },
    {
      "cell_type": "code",
      "execution_count": null,
      "metadata": {
        "id": "generate_samples"
      },
      "outputs": [],
      "source": [
        "# Generate the enhanced dataset\n",
        "print(\"\ud83c\udfaf Starting enhanced dataset generation...\")\n",
        "print(f\"\u23f0 This will take 90-120 minutes for {config.num_samples:,} samples.\")\n",
        "print(\"\ud83d\udcca Monitor progress below:\")\n",
        "print(\"\ud83d\udca1 Keep this notebook active and don't close the browser tab!\")\n\n",
        "try:\n",
        "    output_dir = generator.generate_dataset()\n",
        "    print(f\"\\n\ud83c\udf89 Enhanced dataset generation completed successfully!\")\n",
        "    print(f\"\ud83d\udcc1 Output directory: {output_dir}\")\n",
        "except Exception as e:\n",
        "    print(f\"\\n\u274c Dataset generation failed: {e}\")\n",
        "    print(\"\ud83d\udca1 Try reducing num_samples or check your internet connection\")"
      ]
    },
    {
      "cell_type": "markdown",
      "metadata": {
        "id": "create_zip"
      },
      "source": [
        "## \ud83d\udce6 Step 4: Create Zip Archive\n\n",
        "Create a zip file for easy download and upload to Kaggle"
      ]
    },
    {
      "cell_type": "code",
      "execution_count": null,
      "metadata": {
        "id": "zip_dataset"
      },
      "outputs": [],
      "source": [
        "# Create zip archive\n",
        "import zipfile\n",
        "import os\n",
        "from pathlib import Path\n\n",
        "output_dir = Path(config.output_dir)\n",
        "zip_path = f\"{config.output_dir}.zip\"\n\n",
        "print(f\"\ud83d\udce6 Creating zip archive: {zip_path}\")\n",
        "print(\"\u23f0 This may take 5-10 minutes...\")\n\n",
        "with zipfile.ZipFile(zip_path, 'w', zipfile.ZIP_DEFLATED) as zipf:\n",
        "    for root, dirs, files in os.walk(output_dir):\n",
        "        for file in files:\n",
        "            file_path = os.path.join(root, file)\n",
        "            arcname = os.path.relpath(file_path, output_dir.parent)\n",
        "            zipf.write(file_path, arcname)\n\n",
        "print(f\"\u2705 Zip archive created: {zip_path}\")\n",
        "print(f\"\ud83d\udcc1 Archive size: {os.path.getsize(zip_path) / 1e6:.1f} MB\")\n\n",
        "# Show dataset info\n",
        "dataset_info_path = output_dir / \"dataset_info.json\"\n",
        "if dataset_info_path.exists():\n",
        "    import json\n",
        "    with open(dataset_info_path, 'r') as f:\n",
        "        info = json.load(f)\n",
        "    print(f\"\\n\ud83d\udcca Enhanced Dataset Info:\")\n",
        "    print(f\"   Name: {info.get('name', 'Unknown')}\")\n",
        "    print(f\"   Version: {info.get('version', 'Unknown')}\")\n",
        "    print(f\"   Total Samples: {info.get('num_samples', 0):,}\")\n",
        "    print(f\"   Train Samples: {info.get('train_samples', 0):,}\")\n",
        "    print(f\"   Validation Samples: {info.get('val_samples', 0):,}\")\n",
        "    print(f\"   Enhanced Features: {len(info.get('enhanced_features', []))}\")\n",
        "    print(f\"\\n\ud83c\udfaf Enhanced Features:\")\n",
        "    for feature in info.get('enhanced_features', []):\n",
        "        print(f\"   \u2022 {feature}\")"
      ]
    },
    {
      "cell_type": "markdown",
      "metadata": {
        "id": "download_dataset"
      },
      "source": [
        "## \u2b07\ufe0f Step 5: Download Enhanced Dataset\n\n",
        "Download the enhanced dataset to your computer"
      ]
    },
    {
      "cell_type": "code",
      "execution_count": null,
      "metadata": {
        "id": "download"
      },
      "outputs": [],
      "source": [
        "# Download the enhanced dataset\n",
        "from google.colab import files\n\n",
        "print(\"\u2b07\ufe0f  Downloading enhanced dataset...\")\n",
        "print(f\"\ud83d\udce6 File: {zip_path}\")\n",
        "print(f\"\ud83d\udcc1 Size: {os.path.getsize(zip_path) / 1e6:.1f} MB\")\n",
        "print(\"\ud83d\udca1 This may take a few minutes to download...\")\n\n",
        "files.download(zip_path)\n",
        "print(\"\u2705 Enhanced dataset downloaded successfully!\")"
      ]
    },
    {
      "cell_type": "markdown",
      "metadata": {
        "id": "next_steps"
      },
      "source": [
        "## \ud83c\udfaf Next Steps\n\n",
        "### 1. **Download Enhanced Dataset** \u2705\n",
        "The enhanced dataset has been downloaded to your computer.\n\n",
        "### 2. **Upload to Kaggle**\n",
        "1. Go to [Kaggle](https://www.kaggle.com/)\n",
        "2. Create a new dataset\n",
        "3. Upload the zip file: `housebrain_dataset_v5_150k_colab.zip`\n",
        "4. Make it public or private as needed\n\n",
        "### 3. **Train on Kaggle**\n",
        "Use the updated `colab_training.ipynb` notebook for training.\n\n",
        "### 4. **Alternative: Train on Colab**\n",
        "If you want to train on Colab instead:\n",
        "1. Use the `colab_training.ipynb` notebook\n",
        "2. Upload the dataset zip file\n",
        "3. Follow the training instructions\n\n",
        "---\n\n",
        "## \ud83d\udcca Enhanced Dataset Statistics\n\n",
        "Your generated enhanced dataset includes:\n\n",
        "### **Plot & Site Parameters**\n",
        "- **Plot Shapes**: Rectangle, L-shape, irregular, corner plot, square\n",
        "- **Orientations**: 8 compass directions\n",
        "- **Slopes**: 0-15 degrees\n",
        "- **Setbacks**: Front, rear, left, right (corner plot variations)\n\n",
        "### **Exterior Finishes & Materials**\n",
        "- **Exterior Walls**: 7 material types\n",
        "- **Roofing**: 6 material types\n",
        "- **Windows**: 6 window types\n",
        "- **Doors**: 5 door types\n",
        "- **Garage**: 4 garage configurations\n\n",
        "### **Climate & Site Conditions**\n",
        "- **Climate Zones**: 6 climate types\n",
        "- **Seismic Zones**: 3 risk levels\n",
        "- **Soil Types**: 5 soil types\n",
        "- **Utilities**: Water, sewer, electricity, gas, solar\n\n",
        "### **Building Codes & Regulations**\n",
        "- **Floor Area Ratio**: 0.2-0.8\n",
        "- **Height Restrictions**: 25-35 feet\n",
        "- **Parking Requirements**: 1-3 spaces\n",
        "- **Fire Safety**: Sprinklers, exits, walls\n\n",
        "## \ud83c\udd98 Troubleshooting\n\n",
        "### **Out of Memory**\n",
        "- Reduce `num_samples` to 100K\n",
        "- Use `fast_mode=True` (already enabled)\n\n",
        "### **Slow Generation**\n",
        "- Use `fast_mode=True` (already enabled)\n",
        "- Reduce `num_samples`\n\n",
        "### **Poor Quality**\n",
        "- All enhanced parameters are automatically included\n",
        "- Quality is optimized for architectural realism\n\n",
        "---\n\n",
        "**\ud83c\udf89 Congratulations! You've successfully generated a massive 150K enhanced HouseBrain dataset!**\n\n",
        "**This dataset includes all crucial architectural parameters and is ready for training your custom LLM!**\n\n",
        "For more information, visit: https://github.com/Vinay-O/HouseBrainLLM"
      ]
    }
  ],
  "metadata": {
    "accelerator": "CPU",
    "colab": {
      "provenance": []
    },
    "kernelspec": {
      "display_name": "Python 3",
      "language": "python",
      "name": "python3"
    },
    "language_info": {
      "codemirror_mode": {
        "name": "ipython",
        "version": 3
      },
      "file_extension": ".py",
      "mimetype": "text/x-python",
      "name": "python",
      "nbconvert_exporter": "python",
      "pygments_lexer": "ipython3",
      "version": "3.8.5"
    }
  },
  "nbformat": 4,
  "nbformat_minor": 0
}